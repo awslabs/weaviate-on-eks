{
 "cells": [
  {
   "cell_type": "code",
   "execution_count": null,
   "id": "aa6169e8-361e-4103-824c-410275efa567",
   "metadata": {
    "tags": []
   },
   "outputs": [],
   "source": [
    "%pip install weaviate-client langchain==0.0.240 --quiet"
   ]
  },
  {
   "cell_type": "markdown",
   "id": "46c180a8-2b22-40c8-ac76-4d7cf9580913",
   "metadata": {},
   "source": [
    "<mark>Langchain docs for Weaviate Vectore Store<br></mark>\n",
    "https://python.langchain.com/docs/integrations/vectorstores/weaviate\n",
    "\n",
    "<mark>Langchain docs for Weaviate Hybrid Retriever<br></mark>\n",
    "https://python.langchain.com/docs/integrations/retrievers/weaviate-hybrid"
   ]
  },
  {
   "cell_type": "code",
   "execution_count": null,
   "id": "65029ef5-c714-496a-a523-e43f2fa8c427",
   "metadata": {
    "tags": []
   },
   "outputs": [],
   "source": [
    "import json\n",
    "from langchain.vectorstores.weaviate import Weaviate\n",
    "from langchain.retrievers.weaviate_hybrid_search import WeaviateHybridSearchRetriever\n",
    "import weaviate"
   ]
  },
  {
   "cell_type": "code",
   "execution_count": null,
   "id": "ad37548a-f612-4ea2-bd55-5fa1cd3b7748",
   "metadata": {
    "tags": []
   },
   "outputs": [],
   "source": [
    "# define class names\n",
    "article_class_name = f\"Article\"\n",
    "article_no_vector_class_name = f\"ArticleNoTransformer\""
   ]
  },
  {
   "cell_type": "markdown",
   "id": "c41c9a9e-08ca-4dce-8e3b-491e2c8b6c59",
   "metadata": {},
   "source": [
    "<mark>Confirm the ELB endpoint URL<br></mark>"
   ]
  },
  {
   "cell_type": "code",
   "execution_count": null,
   "id": "58227d6b-e7d8-43e0-9a07-34c80931ab55",
   "metadata": {
    "tags": []
   },
   "outputs": [],
   "source": [
    "elb_endpoint = ''"
   ]
  },
  {
   "cell_type": "code",
   "execution_count": null,
   "id": "be5514de-2c14-4433-91ea-18992b010b43",
   "metadata": {
    "tags": []
   },
   "outputs": [],
   "source": [
    "# Instantiate the client \n",
    "wv_client = weaviate.Client(url=f\"http://{elb_endpoint}\")"
   ]
  },
  {
   "cell_type": "code",
   "execution_count": null,
   "id": "81bdf26a-faba-4c08-a9ca-3c6e39317914",
   "metadata": {
    "tags": []
   },
   "outputs": [],
   "source": [
    "# create a retriever\n",
    "wv_vectorstore = Weaviate(\n",
    "    client=wv_client,\n",
    "    index_name=article_class_name,\n",
    "    text_key='content',\n",
    "    attributes=['title', 'url', 'custom_tags']\n",
    ")"
   ]
  },
  {
   "cell_type": "code",
   "execution_count": null,
   "id": "7891de34-1f48-4430-abb8-d41238187eb0",
   "metadata": {
    "tags": []
   },
   "outputs": [],
   "source": [
    "wv_retriever = wv_vectorstore.as_retriever(search_kwargs={\"k\": 1})"
   ]
  },
  {
   "cell_type": "code",
   "execution_count": null,
   "id": "60ec7848-1560-401e-b829-ad9484a7c526",
   "metadata": {
    "tags": []
   },
   "outputs": [],
   "source": [
    "wv_retriever.get_relevant_documents(\n",
    "    query=\"what is versailles?\"\n",
    ")"
   ]
  },
  {
   "cell_type": "code",
   "execution_count": null,
   "id": "e6c6df87-8d3c-48e6-b659-4b2988d52b44",
   "metadata": {
    "tags": []
   },
   "outputs": [],
   "source": [
    "# create a hybrid retriever (bm25 + semantic)\n",
    "\n",
    "wv_hybrid_retriever = WeaviateHybridSearchRetriever(\n",
    "    client=wv_client,\n",
    "    index_name=article_class_name,\n",
    "    text_key='content',\n",
    "    attributes=['title', 'url', 'custom_tags'],\n",
    "    alpha=0.5,\n",
    "    k=1,\n",
    "    create_schema_if_missing=True,\n",
    ")"
   ]
  },
  {
   "cell_type": "code",
   "execution_count": null,
   "id": "543199b2-c433-43da-bc10-af2247f7c82d",
   "metadata": {
    "tags": []
   },
   "outputs": [],
   "source": [
    "wv_hybrid_retriever.get_relevant_documents(\n",
    "    query=\"what is versailles?\"\n",
    ")"
   ]
  },
  {
   "cell_type": "code",
   "execution_count": null,
   "id": "727e1eb0-554c-404d-8643-f8952612c46f",
   "metadata": {
    "tags": []
   },
   "outputs": [],
   "source": [
    "# add a metadata filter\n",
    "wv_hybrid_retriever.get_relevant_documents(\n",
    "    query=\"what is versailles?\",\n",
    "    where_filter={\n",
    "        \"path\": [\"custom_tags\"],\n",
    "        \"operator\": \"Equal\",\n",
    "        \"valueText\": \"sports\"\n",
    "    },\n",
    ")"
   ]
  },
  {
   "cell_type": "code",
   "execution_count": null,
   "id": "1b0839b3-dd69-486c-994a-6aab57ebfa14",
   "metadata": {},
   "outputs": [],
   "source": []
  },
  {
   "cell_type": "code",
   "execution_count": null,
   "id": "f56ccba9-0d0b-4786-a7b9-dffec8a6d1ec",
   "metadata": {},
   "outputs": [],
   "source": []
  }
 ],
 "metadata": {
  "kernelspec": {
   "display_name": "conda_python3",
   "language": "python",
   "name": "conda_python3"
  },
  "language_info": {
   "codemirror_mode": {
    "name": "ipython",
    "version": 3
   },
   "file_extension": ".py",
   "mimetype": "text/x-python",
   "name": "python",
   "nbconvert_exporter": "python",
   "pygments_lexer": "ipython3",
   "version": "3.10.12"
  }
 },
 "nbformat": 4,
 "nbformat_minor": 5
}
