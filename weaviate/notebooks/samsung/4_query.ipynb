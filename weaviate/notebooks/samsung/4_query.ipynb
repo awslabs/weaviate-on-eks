{
 "cells": [
  {
   "cell_type": "code",
   "execution_count": null,
   "id": "416e6a34-50c3-4d44-9acb-5caded50ef55",
   "metadata": {
    "tags": []
   },
   "outputs": [],
   "source": [
    "%pip install weaviate-client --quiet"
   ]
  },
  {
   "cell_type": "markdown",
   "id": "1668d8aa-c998-4f76-bb5a-73e810ff49f5",
   "metadata": {
    "tags": []
   },
   "source": [
    "<mark>Weaviate documentation for query<br></mark>\n",
    "https://weaviate.io/developers/weaviate/tutorials/query\n",
    "\n",
    "<mark>Weaviate documentation on Search API<br></mark>\n",
    "https://weaviate.io/developers/weaviate/search"
   ]
  },
  {
   "cell_type": "code",
   "execution_count": null,
   "id": "240cb3be-e095-4919-8585-bf5a19f4a106",
   "metadata": {
    "tags": []
   },
   "outputs": [],
   "source": [
    "import ast\n",
    "import json\n",
    "import pandas as pd\n",
    "import weaviate"
   ]
  },
  {
   "cell_type": "markdown",
   "id": "70e7dccc-0abc-4122-a07d-0bdb5bc90197",
   "metadata": {},
   "source": [
    "<mark>Define the load balancer for the Weaviate instance</mark>"
   ]
  },
  {
   "cell_type": "code",
   "execution_count": null,
   "id": "6a220977-54b3-4032-b1ff-e96aa9f8305b",
   "metadata": {
    "tags": []
   },
   "outputs": [],
   "source": [
    "elb_endpoint = ''"
   ]
  },
  {
   "cell_type": "code",
   "execution_count": null,
   "id": "ebab37f7-f8d6-4378-ae56-68cc665cbc73",
   "metadata": {
    "tags": []
   },
   "outputs": [],
   "source": [
    "wv_client = weaviate.Client(url=f\"http://{elb_endpoint}\")"
   ]
  },
  {
   "cell_type": "markdown",
   "id": "04b85215-f1ab-49f5-9204-7b020af90ce6",
   "metadata": {},
   "source": [
    "<h1>Basic Search</h1>"
   ]
  },
  {
   "cell_type": "code",
   "execution_count": null,
   "id": "8d0c35de-7bc0-4de7-ad2f-5b1ad9e9977a",
   "metadata": {
    "tags": []
   },
   "outputs": [],
   "source": [
    "response = (\n",
    "    wv_client.query\n",
    "    .get(\"Manual\", ['model_names','key_features','company_address','document_summary','file','stylus'])\n",
    "    .with_limit(1)\n",
    "    .do()\n",
    ")\n",
    "\n",
    "print(json.dumps(response, indent=2))"
   ]
  },
  {
   "cell_type": "code",
   "execution_count": null,
   "id": "96fc4985-f3c0-477b-b30c-c7a2a26e9e0f",
   "metadata": {
    "tags": []
   },
   "outputs": [],
   "source": [
    "# return the vector associated with the obejct \n",
    "response = (\n",
    "    wv_client.query\n",
    "    .get(\"Manual\", ['model_names','key_features','company_address','document_summary','file','stylus'])\n",
    "    .with_additional(\"vector\")\n",
    "    .with_limit(1)\n",
    "    .do()\n",
    ")\n",
    "\n",
    "print(json.dumps(response, indent=2))"
   ]
  },
  {
   "cell_type": "markdown",
   "id": "c047f64f-898d-426d-8292-9f339e0f3c60",
   "metadata": {},
   "source": [
    "<h1>Filtering based on metadata</h1>"
   ]
  },
  {
   "cell_type": "code",
   "execution_count": null,
   "id": "4f640a48-1521-44b8-8595-b399ede6099c",
   "metadata": {
    "tags": []
   },
   "outputs": [],
   "source": [
    "where_filter = {\n",
    "    \"path\": [\"stylus\"],\n",
    "    \"operator\": \"Equal\",\n",
    "    \"valueBoolean\": True,\n",
    "}\n",
    "\n",
    "result = (\n",
    "    wv_client.query\n",
    "    .get(\"Manual\", ['model_names','key_features','stylus'])\n",
    "    .with_where(where_filter)\n",
    "    .with_limit(2)\n",
    "    .do()\n",
    ")\n",
    "\n",
    "print(json.dumps(result, indent=2))"
   ]
  },
  {
   "cell_type": "markdown",
   "id": "81654669-c9b6-449a-ad5f-02615d2c55a7",
   "metadata": {},
   "source": [
    "<h1>Aggregate data</h1>"
   ]
  },
  {
   "cell_type": "code",
   "execution_count": null,
   "id": "9cbed3df-1ad2-4ef9-80ba-28c5bb10e715",
   "metadata": {
    "tags": []
   },
   "outputs": [],
   "source": [
    "response = (\n",
    "    wv_client.query\n",
    "    .aggregate(\"Manual\")\n",
    "    .with_meta_count()\n",
    "    .do()\n",
    ")\n",
    "\n",
    "print(json.dumps(response, indent=2))"
   ]
  },
  {
   "cell_type": "code",
   "execution_count": null,
   "id": "c6d28bc3-435f-4453-b48d-064ab66eddb2",
   "metadata": {
    "tags": []
   },
   "outputs": [],
   "source": [
    "# combine metadata filtering and aggregation\n",
    "\n",
    "where_filter = {\n",
    "    \"path\": [\"model_names\"],\n",
    "    \"operator\": \"Like\",\n",
    "    \"valueText\": \"Galaxy\",\n",
    "}\n",
    "\n",
    "response = (\n",
    "    wv_client.query\n",
    "    .aggregate(\"Manual\")\n",
    "    .with_where(where_filter)\n",
    "    .with_meta_count()\n",
    "    .do()\n",
    ")\n",
    "\n",
    "print(json.dumps(response, indent=2))"
   ]
  },
  {
   "cell_type": "markdown",
   "id": "f1b6cdef-3948-40e6-8ebb-32d2e672e02e",
   "metadata": {},
   "source": [
    "<h1>Similarity / Vector Search</h1>"
   ]
  },
  {
   "cell_type": "code",
   "execution_count": null,
   "id": "e864aabc-ade8-48a7-b6dd-c8957438009c",
   "metadata": {
    "tags": []
   },
   "outputs": [],
   "source": [
    "nearText = {\"concepts\": [\"rugged design\"]}\n",
    "\n",
    "response = (\n",
    "    wv_client.query\n",
    "    .get(\"Manual\", ['model_names','key_features','stylus'])\n",
    "    .with_near_text(nearText)\n",
    "    .with_limit(2)\n",
    "    .with_additional([\"distance\"])\n",
    "    .do()\n",
    ")\n",
    "\n",
    "print(json.dumps(response, indent=2))"
   ]
  },
  {
   "cell_type": "code",
   "execution_count": null,
   "id": "ec86fc42-e0f7-4c25-8711-3d0d9b6ccc3c",
   "metadata": {
    "tags": []
   },
   "outputs": [],
   "source": [
    "where_filter = {\n",
    "    \"path\": [\"model_names\"],\n",
    "    \"operator\": \"Like\",\n",
    "    \"valueText\": \"Galaxy\",\n",
    "}\n",
    "\n",
    "nearText = {\"concepts\": [\"fast charging\"]}\n",
    "\n",
    "result = (\n",
    "    wv_client.query\n",
    "    .get(\"Manual\", ['model_names','key_features','stylus'])\n",
    "    .with_where(where_filter)\n",
    "    .with_near_text(nearText)\n",
    "    .with_limit(2)\n",
    "    .with_additional([\"distance\"])\n",
    "    .do()\n",
    ")\n",
    "\n",
    "print(json.dumps(result, indent=2))"
   ]
  },
  {
   "cell_type": "code",
   "execution_count": null,
   "id": "26eb1406-f0cf-4800-ab39-4be6a8431890",
   "metadata": {
    "tags": []
   },
   "outputs": [],
   "source": [
    "# ... and we can set a threshold for the distance\n",
    "where_filter = {\n",
    "    \"path\": [\"model_names\"],\n",
    "    \"operator\": \"Like\",\n",
    "    \"valueText\": \"Galaxy\",\n",
    "}\n",
    "\n",
    "max_distance = .4\n",
    "nearText = {\"concepts\": [\"fast charging\"],\n",
    "           \"distance\": max_distance}\n",
    "\n",
    "\n",
    "result = (\n",
    "    wv_client.query\n",
    "    .get(\"Manual\", ['model_names','key_features','stylus'])\n",
    "    .with_where(where_filter)\n",
    "    .with_near_text(nearText)\n",
    "    .with_additional([\"distance\"])\n",
    "    .do()\n",
    ")\n",
    "\n",
    "print(json.dumps(result, indent=2))"
   ]
  },
  {
   "cell_type": "markdown",
   "id": "38376ff1-a0d9-4465-8d04-b808c3c31e74",
   "metadata": {},
   "source": [
    "<h1>BM25 / Keyword Search</h1>"
   ]
  },
  {
   "cell_type": "code",
   "execution_count": null,
   "id": "adb1cc1f-af98-4f88-bf58-06929fcb039f",
   "metadata": {
    "tags": []
   },
   "outputs": [],
   "source": [
    "# basic bm25 search\n",
    "response = (\n",
    "    wv_client.query\n",
    "    .get(\"Manual\", ['model_names','key_features','document_summary'])\n",
    "    .with_bm25(query=\"biometric\")\n",
    "    .with_limit(3)\n",
    "    .do()\n",
    ")\n",
    "\n",
    "print(json.dumps(response, indent=2))"
   ]
  },
  {
   "cell_type": "code",
   "execution_count": null,
   "id": "44f60dbf-8e34-44ab-b181-0ed3f50d3005",
   "metadata": {
    "tags": []
   },
   "outputs": [],
   "source": [
    "# return the bm25 algorithm score\n",
    "response = (\n",
    "    wv_client.query\n",
    "    .get(\"Manual\", ['model_names','key_features','document_summary'])\n",
    "    .with_bm25(query=\"biometric\")\n",
    "    .with_limit(3)\n",
    "    .with_additional(\"score\")\n",
    "    .do()\n",
    ")\n",
    "\n",
    "print(json.dumps(response, indent=2))"
   ]
  },
  {
   "cell_type": "code",
   "execution_count": null,
   "id": "0259dce2-55f4-4204-aa1f-d5e70a9d8af6",
   "metadata": {
    "tags": []
   },
   "outputs": [],
   "source": [
    "# perform bm25 search only in specific fields of the object\n",
    "response = (\n",
    "    wv_client.query\n",
    "    .get(\"Manual\", ['model_names','key_features','document_summary'])\n",
    "    .with_bm25(query=\"front camera\", properties=[\"key_features\"]) # if not provided, all text fields are searched\n",
    "    .with_limit(3)\n",
    "    .with_additional(\"score\")\n",
    "    .do()\n",
    ")\n",
    "\n",
    "print(json.dumps(response, indent=2))"
   ]
  },
  {
   "cell_type": "code",
   "execution_count": null,
   "id": "05ac0fc0-c3f5-47fe-afa2-ce48b8619a95",
   "metadata": {},
   "outputs": [],
   "source": [
    "# boost a specific attribute in keyword search\n",
    "response = (\n",
    "    wv_client.query\n",
    "    .get(\"Manual\", ['model_names','key_features','document_summary'])\n",
    "    .with_bm25(query=\"front camera\", properties=[\"key_features^2\",\"document_summary\"]) # if not provided, all text fields are searched\n",
    "    .with_limit(3)\n",
    "    .with_additional(\"score\")\n",
    "    .do()\n",
    ")\n",
    "\n",
    "print(json.dumps(response, indent=2))"
   ]
  },
  {
   "cell_type": "markdown",
   "id": "c54e3fe4-33f3-4914-9175-80cbfe3fea08",
   "metadata": {},
   "source": [
    "<h1>Hybrid (BM25 + Semantic Vector) Search</h1>"
   ]
  },
  {
   "cell_type": "code",
   "execution_count": null,
   "id": "654bc832-ea21-481d-8dd4-e90e0cd4bb5a",
   "metadata": {
    "tags": []
   },
   "outputs": [],
   "source": [
    "# basic hybrid search\n",
    "response = (\n",
    "    wv_client.query\n",
    "    .get(\"Manual\", ['model_names','key_features','document_summary'])\n",
    "    .with_hybrid(query=\"biometric\")\n",
    "    .with_limit(3)\n",
    "    .do()\n",
    ")\n",
    "\n",
    "print(json.dumps(response, indent=2))"
   ]
  },
  {
   "cell_type": "code",
   "execution_count": null,
   "id": "5476a75c-85eb-4042-b91b-ff28128fc4ea",
   "metadata": {
    "tags": []
   },
   "outputs": [],
   "source": [
    "# include bm25 score and explanations\n",
    "\n",
    "response = (\n",
    "    wv_client.query\n",
    "    .get(\"Manual\", ['model_names','key_features','document_summary'])\n",
    "    .with_hybrid(query=\"biometric\")\n",
    "    .with_additional([\"score\", \"explainScore\"])\n",
    "    .with_limit(3)\n",
    "    .do()\n",
    ")\n",
    "\n",
    "\n",
    "print(json.dumps(response, indent=2))"
   ]
  },
  {
   "cell_type": "code",
   "execution_count": null,
   "id": "0a249b13-627c-462c-958d-2c2a4d920fb2",
   "metadata": {
    "tags": []
   },
   "outputs": [],
   "source": [
    "# weight the bm25 and vector scores\n",
    "response = (\n",
    "    wv_client.query\n",
    "    .get(\"Manual\", ['model_names','key_features','document_summary'])\n",
    "    .with_hybrid(query=\"large screen\", alpha=0.25) # An alpha of 1 is for a pure vector search and 0 is for a pure keyword search\n",
    "    .with_additional([\"score\", \"explainScore\"])\n",
    "    .with_limit(3)\n",
    "    .do()\n",
    ")\n",
    "\n",
    "print(json.dumps(response, indent=2))"
   ]
  },
  {
   "cell_type": "code",
   "execution_count": null,
   "id": "edc4e308-fc79-4b91-b6d8-c4c24d6bc2e6",
   "metadata": {
    "tags": []
   },
   "outputs": [],
   "source": [
    "# note you can combine metadata filtering with all of these search types\n",
    "\n",
    "where_filter = {\n",
    "    \"path\": [\"model_names\"],\n",
    "    \"operator\": \"Like\",\n",
    "    \"valueText\": \"Galaxy\",\n",
    "}\n",
    "\n",
    "response = (\n",
    "    wv_client.query\n",
    "    .get(\"Manual\", ['model_names','key_features','document_summary'])\n",
    "    .with_hybrid(query=\"large screen\", alpha=0.25) # An alpha of 1 is for a pure vector search and 0 is for a pure keyword search\n",
    "    .with_additional([\"score\"])\n",
    "    .with_where(where_filter)\n",
    "    .with_limit(3)\n",
    "    .do()\n",
    ")\n",
    "\n",
    "\n",
    "print(json.dumps(response, indent=2))"
   ]
  },
  {
   "cell_type": "markdown",
   "id": "6f4f2ee4-9c6c-427e-ac8f-3473aaabb9ea",
   "metadata": {},
   "source": [
    "<h1>Reranking Search</h1>"
   ]
  },
  {
   "cell_type": "code",
   "execution_count": null,
   "id": "e8ec135c-1226-4116-a26b-24535482df0a",
   "metadata": {
    "tags": []
   },
   "outputs": [],
   "source": [
    "# Reranking vector search results\n",
    "# let's say we want to find phones with a large screen, and further sort towards the top those with fast charging.\n",
    "\n",
    "# we can start with searching near the concept of large screen\n",
    "nearText = {\"concepts\": [\"large screen\"]}\n",
    "\n",
    "response = (\n",
    "    wv_client.query\n",
    "    .get(\"Manual\", ['model_names','key_features','document_summary'])\n",
    "    .with_near_text(nearText)\n",
    "    .with_additional('distance')\n",
    "    .with_limit(10)\n",
    "    .do()\n",
    ")\n",
    "\n",
    "print(json.dumps(response, indent=2))"
   ]
  },
  {
   "cell_type": "code",
   "execution_count": null,
   "id": "dd4f9d25-71b6-4efe-8f33-4c0a8934c1ad",
   "metadata": {
    "tags": []
   },
   "outputs": [],
   "source": [
    "# and sort to the top those who's \"document_summary\" field matches the re-rank query for fast charging\n",
    "\n",
    "nearText = {\"concepts\": [\"large screen\"]}\n",
    "\n",
    "response = (\n",
    "    wv_client.query\n",
    "    .get(\"Manual\", ['model_names','key_features','document_summary'])\n",
    "    .with_near_text(nearText)\n",
    "    .with_additional('rerank(property: \"key_features\" query: \"fast charging\") { score }')\n",
    "    .with_limit(1)\n",
    "    .do()\n",
    ")\n",
    "\n",
    "print(json.dumps(response, indent=2))"
   ]
  },
  {
   "cell_type": "code",
   "execution_count": null,
   "id": "6e6c9c49-f486-40ce-a02e-34dd3f2e0b79",
   "metadata": {
    "tags": []
   },
   "outputs": [],
   "source": [
    "# rerank bm25 search\n",
    "response = (\n",
    "    wv_client.query\n",
    "    .get(\"Manual\", ['model_names','key_features','document_summary'])\n",
    "    .with_bm25(query='security')\n",
    "    .with_additional('rerank(property: \"key_features\" query: \"fast charging\") { score }')\n",
    "    .with_limit(1)\n",
    "    .do()\n",
    ")\n",
    "\n",
    "print(json.dumps(response, indent=2))"
   ]
  },
  {
   "cell_type": "markdown",
   "id": "f29f9b3e-bea7-4eaf-9c86-610f3df85758",
   "metadata": {},
   "source": [
    "<h1>Searching for information on a specific device - We need a better pattern</h1>"
   ]
  },
  {
   "cell_type": "code",
   "execution_count": null,
   "id": "a88f8713-67f0-4ef8-b9a4-6eec33159847",
   "metadata": {
    "tags": []
   },
   "outputs": [],
   "source": [
    "nearText = {\"concepts\": [\"how do I unlock the screen?\"]}\n",
    "\n",
    "where_filter = {\n",
    "    \"path\": [\"model_names\"],\n",
    "    \"operator\": \"Equal\",\n",
    "    \"valueText\": \"Galaxy S22\",\n",
    "}\n",
    "\n",
    "response = (\n",
    "    wv_client.query\n",
    "    .get(\"ManualContent\", ['content','model_names','file'])\n",
    "    .with_near_text(nearText)\n",
    "    .with_where(where_filter)\n",
    "    .with_limit(3)\n",
    "    .do()\n",
    ")\n",
    "\n",
    "print(json.dumps(response, indent=2))"
   ]
  },
  {
   "cell_type": "code",
   "execution_count": null,
   "id": "a4eb63a7-06ad-46aa-9b92-6000e7fc18bb",
   "metadata": {},
   "outputs": [],
   "source": []
  }
 ],
 "metadata": {
  "kernelspec": {
   "display_name": "conda_python3",
   "language": "python",
   "name": "conda_python3"
  },
  "language_info": {
   "codemirror_mode": {
    "name": "ipython",
    "version": 3
   },
   "file_extension": ".py",
   "mimetype": "text/x-python",
   "name": "python",
   "nbconvert_exporter": "python",
   "pygments_lexer": "ipython3",
   "version": "3.10.12"
  }
 },
 "nbformat": 4,
 "nbformat_minor": 5
}
