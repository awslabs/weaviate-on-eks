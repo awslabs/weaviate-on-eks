{
 "cells": [
  {
   "cell_type": "code",
   "execution_count": null,
   "id": "817cd216-86c6-4570-af52-c101fa64bd8e",
   "metadata": {
    "tags": []
   },
   "outputs": [],
   "source": [
    "%pip install weaviate-client"
   ]
  },
  {
   "cell_type": "code",
   "execution_count": null,
   "id": "34f771df-5437-4c05-9701-77161dfc12db",
   "metadata": {
    "tags": []
   },
   "outputs": [],
   "source": [
    "import weaviate"
   ]
  },
  {
   "cell_type": "markdown",
   "id": "3f7ef483-ad15-4d58-9f2d-5506e28fcb2a",
   "metadata": {},
   "source": [
    "<mark>Define the load balancer for the Weaviate instance</mark>"
   ]
  },
  {
   "cell_type": "code",
   "execution_count": null,
   "id": "af4fa172-3c99-4a9d-8736-0e17eb12c9d9",
   "metadata": {
    "tags": []
   },
   "outputs": [],
   "source": [
    "network_load_balancer = ''"
   ]
  },
  {
   "cell_type": "code",
   "execution_count": null,
   "id": "eb36e8d0-2ade-459e-b707-fb4a02dbc8d3",
   "metadata": {
    "tags": []
   },
   "outputs": [],
   "source": [
    "# Instantiate the client\n",
    "wv_client = weaviate.Client(url=f\"http://{network_load_balancer}\")"
   ]
  },
  {
   "cell_type": "code",
   "execution_count": null,
   "id": "87a240b4-de66-466c-ac22-22e307e678ce",
   "metadata": {
    "tags": []
   },
   "outputs": [],
   "source": [
    "#wv_client.schema.delete_all()  # ⚠️ uncomment to start from scratch by deleting ALL data"
   ]
  },
  {
   "cell_type": "code",
   "execution_count": null,
   "id": "2567cb3d-3e94-431d-a2da-1c7b5200e391",
   "metadata": {
    "tags": []
   },
   "outputs": [],
   "source": [
    "#wv_client.schema.delete_class(class_name='Query')"
   ]
  },
  {
   "cell_type": "code",
   "execution_count": null,
   "id": "6216ad9b-5b94-467f-a403-f078dd6f1baa",
   "metadata": {
    "tags": []
   },
   "outputs": [],
   "source": [
    "wv_client.schema.get()"
   ]
  },
  {
   "cell_type": "code",
   "execution_count": null,
   "id": "fb40bd82-6fdf-4df8-90dd-bad375dea695",
   "metadata": {
    "tags": []
   },
   "outputs": [],
   "source": [
    "# create a class for manual metadata\n",
    "manual_class = {\n",
    "    \"class\": \"Manual\",\n",
    "    \"description\": \"Metadata for a user manual for a Samsung smart phone\",\n",
    "    \"vectorizer\": \"text2vec-transformers\",\n",
    "      \"moduleConfig\": {\n",
    "        \"text2vec-transformers\": {\n",
    "          \"poolingStrategy\": \"masked_mean\",\n",
    "          \"vectorizeClassName\": False\n",
    "      },\n",
    "    },\n",
    "    \"properties\": [\n",
    "        {\n",
    "            \"name\": \"model_names\",\n",
    "            \"description\": \"Names of the models included in the manual\",\n",
    "            \"dataType\": [\"text[]\"],\n",
    "            \"moduleConfig\": {\"text2vec-transformers\": {\"skip\": True}} # don't vectorize this field\n",
    "        },\n",
    "        {\n",
    "            \"name\": \"key_features\",\n",
    "            \"description\": \"Key features for the models\",\n",
    "            \"dataType\": [\"text[]\"],\n",
    "        },\n",
    "        {\n",
    "            \"name\": \"company_address\",\n",
    "            \"description\": \"Address of the company\",\n",
    "            \"dataType\": [\"text\"],\n",
    "            \"moduleConfig\": {\"text2vec-transformers\": {\"skip\": True}} # don't vectorize this field\n",
    "        },\n",
    "        {\n",
    "            \"name\": \"document_summary\",\n",
    "            \"description\": \"Summary of the manual\",\n",
    "            \"dataType\": [\"text\"],\n",
    "        },\n",
    "        {\n",
    "            \"name\": \"file\",\n",
    "            \"description\": \"Name of the file\",\n",
    "            \"dataType\": [\"text\"],\n",
    "            \"moduleConfig\": {\"text2vec-transformers\": {\"skip\": True}} # don't vectorize this field\n",
    "        },\n",
    "        {\n",
    "            \"name\": \"stylus\",\n",
    "            \"description\": \"Whether or not the device includes a stylus\",\n",
    "            \"dataType\": [\"boolean\"],\n",
    "            \"moduleConfig\": {\"text2vec-transformers\": {\"skip\": True}} # don't vectorize this field\n",
    "        },\n",
    "    ]\n",
    "}\n",
    "\n",
    "# Add the Article class to the schema\n",
    "wv_client.schema.create_class(manual_class)\n",
    "print('Created schema')"
   ]
  },
  {
   "cell_type": "code",
   "execution_count": null,
   "id": "2f63f2f3-522b-49ad-abf4-7fdf5fd9f867",
   "metadata": {
    "tags": []
   },
   "outputs": [],
   "source": [
    "# create a class for manual content\n",
    "manual_content_class = {\n",
    "    \"class\": \"ManualContent\",\n",
    "    \"description\": \"Content of a user manual for a Samsung smart phone\",\n",
    "    \"vectorizer\": \"text2vec-transformers\",\n",
    "      \"moduleConfig\": {\n",
    "        \"text2vec-transformers\": {\n",
    "          \"poolingStrategy\": \"masked_mean\",\n",
    "          \"vectorizeClassName\": False\n",
    "      },\n",
    "    },\n",
    "    \"properties\": [\n",
    "        {\n",
    "            \"name\": \"content\",\n",
    "            \"description\": \"Content from the manual\",\n",
    "            \"dataType\": [\"text\"],\n",
    "        },\n",
    "        {\n",
    "            \"name\": \"file\",\n",
    "            \"description\": \"Name of the file\",\n",
    "            \"dataType\": [\"text\"],\n",
    "            \"moduleConfig\": {\"text2vec-transformers\": {\"skip\": True}} # don't vectorize this field\n",
    "        },\n",
    "        {\n",
    "            \"name\": \"model_names\",\n",
    "            \"description\": \"Names of the models included in the manual\",\n",
    "            \"dataType\": [\"text[]\"],\n",
    "            \"moduleConfig\": {\"text2vec-transformers\": {\"skip\": True}} # don't vectorize this field\n",
    "        },\n",
    "    ]\n",
    "}\n",
    "\n",
    "# Add the Article class to the schema\n",
    "wv_client.schema.create_class(manual_content_class)\n",
    "print('Created schema')"
   ]
  },
  {
   "cell_type": "code",
   "execution_count": null,
   "id": "b9bb149e-f758-4cef-82f4-7b8ab9004dce",
   "metadata": {
    "tags": []
   },
   "outputs": [],
   "source": [
    "# create a class for Weaviate queries\n",
    "query_class = {\n",
    "    \"class\": \"Query\",\n",
    "    \"description\": \"Text-to-Weaviate query converstion\",\n",
    "    \"vectorizer\": \"text2vec-transformers\",\n",
    "      \"moduleConfig\": {\n",
    "        \"text2vec-transformers\": {\n",
    "          \"poolingStrategy\": \"masked_mean\",\n",
    "          \"vectorizeClassName\": False\n",
    "      },\n",
    "    },\n",
    "    \"properties\": [\n",
    "        {\n",
    "            \"name\": \"question\",\n",
    "            \"description\": \"Question to be converted in English\",\n",
    "            \"dataType\": [\"text\"],\n",
    "        },\n",
    "        {\n",
    "            \"name\": \"query\",\n",
    "            \"description\": \"Weaviate query for the question\",\n",
    "            \"dataType\": [\"text\"],\n",
    "            \"moduleConfig\": {\"text2vec-transformers\": {\"skip\": True}} # don't vectorize this field\n",
    "        },\n",
    "    ]\n",
    "}\n",
    "\n",
    "# Add the Article class to the schema\n",
    "wv_client.schema.create_class(query_class)\n",
    "print('Created schema')"
   ]
  },
  {
   "cell_type": "code",
   "execution_count": null,
   "id": "6bb046c2-7cca-4ded-be7c-bf778d8ecb47",
   "metadata": {
    "tags": []
   },
   "outputs": [],
   "source": [
    "wv_client.schema.get()"
   ]
  },
  {
   "cell_type": "code",
   "execution_count": null,
   "id": "79950300-2655-4a10-a6b0-f04a2aae8e02",
   "metadata": {},
   "outputs": [],
   "source": []
  }
 ],
 "metadata": {
  "availableInstances": [
   {
    "_defaultOrder": 0,
    "_isFastLaunch": true,
    "category": "General purpose",
    "gpuNum": 0,
    "hideHardwareSpecs": false,
    "memoryGiB": 4,
    "name": "ml.t3.medium",
    "vcpuNum": 2
   },
   {
    "_defaultOrder": 1,
    "_isFastLaunch": false,
    "category": "General purpose",
    "gpuNum": 0,
    "hideHardwareSpecs": false,
    "memoryGiB": 8,
    "name": "ml.t3.large",
    "vcpuNum": 2
   },
   {
    "_defaultOrder": 2,
    "_isFastLaunch": false,
    "category": "General purpose",
    "gpuNum": 0,
    "hideHardwareSpecs": false,
    "memoryGiB": 16,
    "name": "ml.t3.xlarge",
    "vcpuNum": 4
   },
   {
    "_defaultOrder": 3,
    "_isFastLaunch": false,
    "category": "General purpose",
    "gpuNum": 0,
    "hideHardwareSpecs": false,
    "memoryGiB": 32,
    "name": "ml.t3.2xlarge",
    "vcpuNum": 8
   },
   {
    "_defaultOrder": 4,
    "_isFastLaunch": true,
    "category": "General purpose",
    "gpuNum": 0,
    "hideHardwareSpecs": false,
    "memoryGiB": 8,
    "name": "ml.m5.large",
    "vcpuNum": 2
   },
   {
    "_defaultOrder": 5,
    "_isFastLaunch": false,
    "category": "General purpose",
    "gpuNum": 0,
    "hideHardwareSpecs": false,
    "memoryGiB": 16,
    "name": "ml.m5.xlarge",
    "vcpuNum": 4
   },
   {
    "_defaultOrder": 6,
    "_isFastLaunch": false,
    "category": "General purpose",
    "gpuNum": 0,
    "hideHardwareSpecs": false,
    "memoryGiB": 32,
    "name": "ml.m5.2xlarge",
    "vcpuNum": 8
   },
   {
    "_defaultOrder": 7,
    "_isFastLaunch": false,
    "category": "General purpose",
    "gpuNum": 0,
    "hideHardwareSpecs": false,
    "memoryGiB": 64,
    "name": "ml.m5.4xlarge",
    "vcpuNum": 16
   },
   {
    "_defaultOrder": 8,
    "_isFastLaunch": false,
    "category": "General purpose",
    "gpuNum": 0,
    "hideHardwareSpecs": false,
    "memoryGiB": 128,
    "name": "ml.m5.8xlarge",
    "vcpuNum": 32
   },
   {
    "_defaultOrder": 9,
    "_isFastLaunch": false,
    "category": "General purpose",
    "gpuNum": 0,
    "hideHardwareSpecs": false,
    "memoryGiB": 192,
    "name": "ml.m5.12xlarge",
    "vcpuNum": 48
   },
   {
    "_defaultOrder": 10,
    "_isFastLaunch": false,
    "category": "General purpose",
    "gpuNum": 0,
    "hideHardwareSpecs": false,
    "memoryGiB": 256,
    "name": "ml.m5.16xlarge",
    "vcpuNum": 64
   },
   {
    "_defaultOrder": 11,
    "_isFastLaunch": false,
    "category": "General purpose",
    "gpuNum": 0,
    "hideHardwareSpecs": false,
    "memoryGiB": 384,
    "name": "ml.m5.24xlarge",
    "vcpuNum": 96
   },
   {
    "_defaultOrder": 12,
    "_isFastLaunch": false,
    "category": "General purpose",
    "gpuNum": 0,
    "hideHardwareSpecs": false,
    "memoryGiB": 8,
    "name": "ml.m5d.large",
    "vcpuNum": 2
   },
   {
    "_defaultOrder": 13,
    "_isFastLaunch": false,
    "category": "General purpose",
    "gpuNum": 0,
    "hideHardwareSpecs": false,
    "memoryGiB": 16,
    "name": "ml.m5d.xlarge",
    "vcpuNum": 4
   },
   {
    "_defaultOrder": 14,
    "_isFastLaunch": false,
    "category": "General purpose",
    "gpuNum": 0,
    "hideHardwareSpecs": false,
    "memoryGiB": 32,
    "name": "ml.m5d.2xlarge",
    "vcpuNum": 8
   },
   {
    "_defaultOrder": 15,
    "_isFastLaunch": false,
    "category": "General purpose",
    "gpuNum": 0,
    "hideHardwareSpecs": false,
    "memoryGiB": 64,
    "name": "ml.m5d.4xlarge",
    "vcpuNum": 16
   },
   {
    "_defaultOrder": 16,
    "_isFastLaunch": false,
    "category": "General purpose",
    "gpuNum": 0,
    "hideHardwareSpecs": false,
    "memoryGiB": 128,
    "name": "ml.m5d.8xlarge",
    "vcpuNum": 32
   },
   {
    "_defaultOrder": 17,
    "_isFastLaunch": false,
    "category": "General purpose",
    "gpuNum": 0,
    "hideHardwareSpecs": false,
    "memoryGiB": 192,
    "name": "ml.m5d.12xlarge",
    "vcpuNum": 48
   },
   {
    "_defaultOrder": 18,
    "_isFastLaunch": false,
    "category": "General purpose",
    "gpuNum": 0,
    "hideHardwareSpecs": false,
    "memoryGiB": 256,
    "name": "ml.m5d.16xlarge",
    "vcpuNum": 64
   },
   {
    "_defaultOrder": 19,
    "_isFastLaunch": false,
    "category": "General purpose",
    "gpuNum": 0,
    "hideHardwareSpecs": false,
    "memoryGiB": 384,
    "name": "ml.m5d.24xlarge",
    "vcpuNum": 96
   },
   {
    "_defaultOrder": 20,
    "_isFastLaunch": false,
    "category": "General purpose",
    "gpuNum": 0,
    "hideHardwareSpecs": true,
    "memoryGiB": 0,
    "name": "ml.geospatial.interactive",
    "supportedImageNames": [
     "sagemaker-geospatial-v1-0"
    ],
    "vcpuNum": 0
   },
   {
    "_defaultOrder": 21,
    "_isFastLaunch": true,
    "category": "Compute optimized",
    "gpuNum": 0,
    "hideHardwareSpecs": false,
    "memoryGiB": 4,
    "name": "ml.c5.large",
    "vcpuNum": 2
   },
   {
    "_defaultOrder": 22,
    "_isFastLaunch": false,
    "category": "Compute optimized",
    "gpuNum": 0,
    "hideHardwareSpecs": false,
    "memoryGiB": 8,
    "name": "ml.c5.xlarge",
    "vcpuNum": 4
   },
   {
    "_defaultOrder": 23,
    "_isFastLaunch": false,
    "category": "Compute optimized",
    "gpuNum": 0,
    "hideHardwareSpecs": false,
    "memoryGiB": 16,
    "name": "ml.c5.2xlarge",
    "vcpuNum": 8
   },
   {
    "_defaultOrder": 24,
    "_isFastLaunch": false,
    "category": "Compute optimized",
    "gpuNum": 0,
    "hideHardwareSpecs": false,
    "memoryGiB": 32,
    "name": "ml.c5.4xlarge",
    "vcpuNum": 16
   },
   {
    "_defaultOrder": 25,
    "_isFastLaunch": false,
    "category": "Compute optimized",
    "gpuNum": 0,
    "hideHardwareSpecs": false,
    "memoryGiB": 72,
    "name": "ml.c5.9xlarge",
    "vcpuNum": 36
   },
   {
    "_defaultOrder": 26,
    "_isFastLaunch": false,
    "category": "Compute optimized",
    "gpuNum": 0,
    "hideHardwareSpecs": false,
    "memoryGiB": 96,
    "name": "ml.c5.12xlarge",
    "vcpuNum": 48
   },
   {
    "_defaultOrder": 27,
    "_isFastLaunch": false,
    "category": "Compute optimized",
    "gpuNum": 0,
    "hideHardwareSpecs": false,
    "memoryGiB": 144,
    "name": "ml.c5.18xlarge",
    "vcpuNum": 72
   },
   {
    "_defaultOrder": 28,
    "_isFastLaunch": false,
    "category": "Compute optimized",
    "gpuNum": 0,
    "hideHardwareSpecs": false,
    "memoryGiB": 192,
    "name": "ml.c5.24xlarge",
    "vcpuNum": 96
   },
   {
    "_defaultOrder": 29,
    "_isFastLaunch": true,
    "category": "Accelerated computing",
    "gpuNum": 1,
    "hideHardwareSpecs": false,
    "memoryGiB": 16,
    "name": "ml.g4dn.xlarge",
    "vcpuNum": 4
   },
   {
    "_defaultOrder": 30,
    "_isFastLaunch": false,
    "category": "Accelerated computing",
    "gpuNum": 1,
    "hideHardwareSpecs": false,
    "memoryGiB": 32,
    "name": "ml.g4dn.2xlarge",
    "vcpuNum": 8
   },
   {
    "_defaultOrder": 31,
    "_isFastLaunch": false,
    "category": "Accelerated computing",
    "gpuNum": 1,
    "hideHardwareSpecs": false,
    "memoryGiB": 64,
    "name": "ml.g4dn.4xlarge",
    "vcpuNum": 16
   },
   {
    "_defaultOrder": 32,
    "_isFastLaunch": false,
    "category": "Accelerated computing",
    "gpuNum": 1,
    "hideHardwareSpecs": false,
    "memoryGiB": 128,
    "name": "ml.g4dn.8xlarge",
    "vcpuNum": 32
   },
   {
    "_defaultOrder": 33,
    "_isFastLaunch": false,
    "category": "Accelerated computing",
    "gpuNum": 4,
    "hideHardwareSpecs": false,
    "memoryGiB": 192,
    "name": "ml.g4dn.12xlarge",
    "vcpuNum": 48
   },
   {
    "_defaultOrder": 34,
    "_isFastLaunch": false,
    "category": "Accelerated computing",
    "gpuNum": 1,
    "hideHardwareSpecs": false,
    "memoryGiB": 256,
    "name": "ml.g4dn.16xlarge",
    "vcpuNum": 64
   },
   {
    "_defaultOrder": 35,
    "_isFastLaunch": false,
    "category": "Accelerated computing",
    "gpuNum": 1,
    "hideHardwareSpecs": false,
    "memoryGiB": 61,
    "name": "ml.p3.2xlarge",
    "vcpuNum": 8
   },
   {
    "_defaultOrder": 36,
    "_isFastLaunch": false,
    "category": "Accelerated computing",
    "gpuNum": 4,
    "hideHardwareSpecs": false,
    "memoryGiB": 244,
    "name": "ml.p3.8xlarge",
    "vcpuNum": 32
   },
   {
    "_defaultOrder": 37,
    "_isFastLaunch": false,
    "category": "Accelerated computing",
    "gpuNum": 8,
    "hideHardwareSpecs": false,
    "memoryGiB": 488,
    "name": "ml.p3.16xlarge",
    "vcpuNum": 64
   },
   {
    "_defaultOrder": 38,
    "_isFastLaunch": false,
    "category": "Accelerated computing",
    "gpuNum": 8,
    "hideHardwareSpecs": false,
    "memoryGiB": 768,
    "name": "ml.p3dn.24xlarge",
    "vcpuNum": 96
   },
   {
    "_defaultOrder": 39,
    "_isFastLaunch": false,
    "category": "Memory Optimized",
    "gpuNum": 0,
    "hideHardwareSpecs": false,
    "memoryGiB": 16,
    "name": "ml.r5.large",
    "vcpuNum": 2
   },
   {
    "_defaultOrder": 40,
    "_isFastLaunch": false,
    "category": "Memory Optimized",
    "gpuNum": 0,
    "hideHardwareSpecs": false,
    "memoryGiB": 32,
    "name": "ml.r5.xlarge",
    "vcpuNum": 4
   },
   {
    "_defaultOrder": 41,
    "_isFastLaunch": false,
    "category": "Memory Optimized",
    "gpuNum": 0,
    "hideHardwareSpecs": false,
    "memoryGiB": 64,
    "name": "ml.r5.2xlarge",
    "vcpuNum": 8
   },
   {
    "_defaultOrder": 42,
    "_isFastLaunch": false,
    "category": "Memory Optimized",
    "gpuNum": 0,
    "hideHardwareSpecs": false,
    "memoryGiB": 128,
    "name": "ml.r5.4xlarge",
    "vcpuNum": 16
   },
   {
    "_defaultOrder": 43,
    "_isFastLaunch": false,
    "category": "Memory Optimized",
    "gpuNum": 0,
    "hideHardwareSpecs": false,
    "memoryGiB": 256,
    "name": "ml.r5.8xlarge",
    "vcpuNum": 32
   },
   {
    "_defaultOrder": 44,
    "_isFastLaunch": false,
    "category": "Memory Optimized",
    "gpuNum": 0,
    "hideHardwareSpecs": false,
    "memoryGiB": 384,
    "name": "ml.r5.12xlarge",
    "vcpuNum": 48
   },
   {
    "_defaultOrder": 45,
    "_isFastLaunch": false,
    "category": "Memory Optimized",
    "gpuNum": 0,
    "hideHardwareSpecs": false,
    "memoryGiB": 512,
    "name": "ml.r5.16xlarge",
    "vcpuNum": 64
   },
   {
    "_defaultOrder": 46,
    "_isFastLaunch": false,
    "category": "Memory Optimized",
    "gpuNum": 0,
    "hideHardwareSpecs": false,
    "memoryGiB": 768,
    "name": "ml.r5.24xlarge",
    "vcpuNum": 96
   },
   {
    "_defaultOrder": 47,
    "_isFastLaunch": false,
    "category": "Accelerated computing",
    "gpuNum": 1,
    "hideHardwareSpecs": false,
    "memoryGiB": 16,
    "name": "ml.g5.xlarge",
    "vcpuNum": 4
   },
   {
    "_defaultOrder": 48,
    "_isFastLaunch": false,
    "category": "Accelerated computing",
    "gpuNum": 1,
    "hideHardwareSpecs": false,
    "memoryGiB": 32,
    "name": "ml.g5.2xlarge",
    "vcpuNum": 8
   },
   {
    "_defaultOrder": 49,
    "_isFastLaunch": false,
    "category": "Accelerated computing",
    "gpuNum": 1,
    "hideHardwareSpecs": false,
    "memoryGiB": 64,
    "name": "ml.g5.4xlarge",
    "vcpuNum": 16
   },
   {
    "_defaultOrder": 50,
    "_isFastLaunch": false,
    "category": "Accelerated computing",
    "gpuNum": 1,
    "hideHardwareSpecs": false,
    "memoryGiB": 128,
    "name": "ml.g5.8xlarge",
    "vcpuNum": 32
   },
   {
    "_defaultOrder": 51,
    "_isFastLaunch": false,
    "category": "Accelerated computing",
    "gpuNum": 1,
    "hideHardwareSpecs": false,
    "memoryGiB": 256,
    "name": "ml.g5.16xlarge",
    "vcpuNum": 64
   },
   {
    "_defaultOrder": 52,
    "_isFastLaunch": false,
    "category": "Accelerated computing",
    "gpuNum": 4,
    "hideHardwareSpecs": false,
    "memoryGiB": 192,
    "name": "ml.g5.12xlarge",
    "vcpuNum": 48
   },
   {
    "_defaultOrder": 53,
    "_isFastLaunch": false,
    "category": "Accelerated computing",
    "gpuNum": 4,
    "hideHardwareSpecs": false,
    "memoryGiB": 384,
    "name": "ml.g5.24xlarge",
    "vcpuNum": 96
   },
   {
    "_defaultOrder": 54,
    "_isFastLaunch": false,
    "category": "Accelerated computing",
    "gpuNum": 8,
    "hideHardwareSpecs": false,
    "memoryGiB": 768,
    "name": "ml.g5.48xlarge",
    "vcpuNum": 192
   },
   {
    "_defaultOrder": 55,
    "_isFastLaunch": false,
    "category": "Accelerated computing",
    "gpuNum": 8,
    "hideHardwareSpecs": false,
    "memoryGiB": 1152,
    "name": "ml.p4d.24xlarge",
    "vcpuNum": 96
   },
   {
    "_defaultOrder": 56,
    "_isFastLaunch": false,
    "category": "Accelerated computing",
    "gpuNum": 8,
    "hideHardwareSpecs": false,
    "memoryGiB": 1152,
    "name": "ml.p4de.24xlarge",
    "vcpuNum": 96
   }
  ],
  "instance_type": "ml.t3.medium",
  "kernelspec": {
   "display_name": "conda_python3",
   "language": "python",
   "name": "conda_python3"
  },
  "language_info": {
   "codemirror_mode": {
    "name": "ipython",
    "version": 3
   },
   "file_extension": ".py",
   "mimetype": "text/x-python",
   "name": "python",
   "nbconvert_exporter": "python",
   "pygments_lexer": "ipython3",
   "version": "3.10.12"
  }
 },
 "nbformat": 4,
 "nbformat_minor": 5
}
