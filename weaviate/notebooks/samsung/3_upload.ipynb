{
 "cells": [
  {
   "cell_type": "code",
   "execution_count": null,
   "id": "014a6749-521e-48f1-bb2f-892b026a43f2",
   "metadata": {
    "tags": []
   },
   "outputs": [],
   "source": [
    "%pip install langchain==0.0.245 weaviate-client --quiet --force-reinstall"
   ]
  },
  {
   "cell_type": "code",
   "execution_count": null,
   "id": "34f771df-5437-4c05-9701-77161dfc12db",
   "metadata": {
    "tags": []
   },
   "outputs": [],
   "source": [
    "import ast\n",
    "import json\n",
    "import os\n",
    "import pandas as pd\n",
    "import weaviate"
   ]
  },
  {
   "cell_type": "code",
   "execution_count": null,
   "id": "03acc867-f533-47ae-93c0-b06a6d71079d",
   "metadata": {
    "tags": []
   },
   "outputs": [],
   "source": [
    "from langchain.document_loaders.text import TextLoader\n",
    "from langchain.text_splitter import CharacterTextSplitter, RecursiveCharacterTextSplitter\n",
    "from langchain.document_loaders import PyPDFLoader"
   ]
  },
  {
   "cell_type": "markdown",
   "id": "1ddaaa59-2b6c-4609-a33d-5d06ba577850",
   "metadata": {},
   "source": [
    "<mark>Define the load balancer for the Weaviate instance</mark>"
   ]
  },
  {
   "cell_type": "code",
   "execution_count": null,
   "id": "ff0f96f2-3a1f-49f0-b63a-50ab9145f083",
   "metadata": {},
   "outputs": [],
   "source": [
    "elb_endpoint = ''"
   ]
  },
  {
   "cell_type": "code",
   "execution_count": null,
   "id": "eb36e8d0-2ade-459e-b707-fb4a02dbc8d3",
   "metadata": {
    "tags": []
   },
   "outputs": [],
   "source": [
    "# Instantiate the client\n",
    "wv_client = weaviate.Client(url=f\"http://{elb_endpoint}\")"
   ]
  },
  {
   "cell_type": "code",
   "execution_count": null,
   "id": "87a240b4-de66-466c-ac22-22e307e678ce",
   "metadata": {
    "tags": []
   },
   "outputs": [],
   "source": [
    "wv_client.schema.get()"
   ]
  },
  {
   "cell_type": "code",
   "execution_count": null,
   "id": "2f63f2f3-522b-49ad-abf4-7fdf5fd9f867",
   "metadata": {
    "tags": []
   },
   "outputs": [],
   "source": [
    "# ===== Import data =====\n",
    "# Configure the batch import\n",
    "wv_client.batch.configure(batch_size=100)"
   ]
  },
  {
   "cell_type": "markdown",
   "id": "f654b6e5-2ed7-4952-9f5b-fe04a3f4a278",
   "metadata": {},
   "source": [
    "<h1>Upload Manual Metadata</h1>"
   ]
  },
  {
   "cell_type": "code",
   "execution_count": null,
   "id": "fe802bd3-6a27-40a5-9778-20ddaf269cc9",
   "metadata": {
    "tags": []
   },
   "outputs": [],
   "source": [
    "# Settings for displaying the import progress\n",
    "counter = 0\n",
    "interval = 1000  # print progress every this many records\n",
    "\n",
    "# Create a pandas dataframe iterator with lazy-loading,\n",
    "# so we don't load all records in RAM at once.\n",
    "\n",
    "json_iterator = pd.read_json(\n",
    "    'manual_metadata.jsonl',\n",
    "    orient='records',\n",
    "    lines=True,\n",
    "    chunksize=2,  # number of rows per chunk\n",
    "    # nrows=350  # optionally limit the number of rows to import\n",
    ")\n",
    "\n",
    "for chunk in json_iterator:\n",
    "    for index, row in chunk.iterrows():\n",
    "\n",
    "        properties = {\n",
    "            \"model_names\": row.model_names,\n",
    "            \"key_features\": row.key_features,\n",
    "            \"company_address\": row.company_address,\n",
    "            \"document_summary\": row.document_summary,\n",
    "            \"stylus\": row.stylus,\n",
    "            \"file\": row.file\n",
    "        }\n",
    "\n",
    "        # Add the object to the batch, and set its vector embedding\n",
    "        wv_client.batch.add_data_object(properties, \"Manual\") \n",
    "\n",
    "        # Calculate and display progress\n",
    "        counter += 1\n",
    "        if counter % interval == 0:\n",
    "            print(f\"Imported {counter} manuals ...\")\n",
    "\n",
    "wv_client.batch.flush()\n",
    "print(f\"Finished importing {counter} manuals.\")"
   ]
  },
  {
   "cell_type": "markdown",
   "id": "61911ae5-bb30-4dc5-9960-d30ecffef1ee",
   "metadata": {},
   "source": [
    "<h1>Upload Manual Content</h1>"
   ]
  },
  {
   "cell_type": "code",
   "execution_count": null,
   "id": "87fcadfa-df72-4ea6-8124-4c61162cb120",
   "metadata": {
    "tags": []
   },
   "outputs": [],
   "source": [
    "recursive_text_splitter = RecursiveCharacterTextSplitter(\n",
    "        chunk_size=2500, chunk_overlap=500, separators=[\" \", \",\", \"\\n\"]\n",
    "    )"
   ]
  },
  {
   "cell_type": "code",
   "execution_count": null,
   "id": "efd565ed-a5d0-4588-9602-5289996ea9dd",
   "metadata": {
    "tags": []
   },
   "outputs": [],
   "source": [
    "def get_text_chunks_langchain(text):\n",
    "    text_splitter = RecursiveCharacterTextSplitter(chunk_size=1000, chunk_overlap=100, separators=[\" \", \",\", \"\\n\", \"\\n\\n\"])\n",
    "    docs = text_splitter.split_text(text)\n",
    "    return docs"
   ]
  },
  {
   "cell_type": "code",
   "execution_count": null,
   "id": "65731aed-b013-4a21-8284-b0b87fbb17ba",
   "metadata": {
    "tags": []
   },
   "outputs": [],
   "source": [
    "def get_model_names(file):\n",
    "    where_filter = {\n",
    "        \"path\": [\"file\"],\n",
    "        \"operator\": \"Equal\",\n",
    "        \"valueText\": file\n",
    "    }\n",
    "\n",
    "    result = (\n",
    "        wv_client.query\n",
    "        .get(\"Manual\", [\"model_names\"])\n",
    "        .with_where(where_filter)\n",
    "        .do()\n",
    "    )\n",
    "\n",
    "    try:\n",
    "        model_names = result['data']['Get']['Manual'][0]['model_names']\n",
    "    except:\n",
    "        model_names = []\n",
    "\n",
    "    return model_names"
   ]
  },
  {
   "cell_type": "code",
   "execution_count": null,
   "id": "e56d61d4-1b22-4695-bdcf-0cd0b41287f0",
   "metadata": {
    "tags": []
   },
   "outputs": [],
   "source": [
    "# Upload the Manual Content\n",
    "\n",
    "# Settings for displaying the import progress\n",
    "counter = 0\n",
    "interval = 1000  # print progress every this many records\n",
    "\n",
    "# Create a pandas dataframe iterator with lazy-loading,\n",
    "# so we don't load all records in RAM at once.\n",
    "\n",
    "# collect input files\n",
    "dir_list = os.listdir('manuals/')\n",
    "\n",
    "for file in dir_list:\n",
    "    # load PDF\n",
    "    loader = PyPDFLoader(f\"manuals/{file}\")\n",
    "\n",
    "    model_names = get_model_names(file)\n",
    "\n",
    "    # split into chunks\n",
    "    docs = loader.load_and_split(text_splitter=recursive_text_splitter)\n",
    "\n",
    "    for doc in docs:\n",
    "        content = doc.page_content\n",
    "\n",
    "        properties = {\n",
    "            \"file\": file,\n",
    "            \"model_names\": model_names,\n",
    "            \"content\": content,\n",
    "        }\n",
    "\n",
    "        # Add the object to the batch, and set its vector embedding\n",
    "        #wv_client.batch(callback=check_batch_result).add_data_object(properties, \"ArticleContent\")\n",
    "        wv_client.batch.add_data_object(properties, \"ManualContent\")\n",
    "\n",
    "    # Calculate and display progress\n",
    "    counter += 1\n",
    "    if counter % interval == 0:\n",
    "        print(f\"Imported {counter} manuals...\")\n",
    "\n",
    "wv_client.batch.flush()\n",
    "print(f\"Finished importing {counter} manuals.\")"
   ]
  },
  {
   "cell_type": "markdown",
   "id": "3e8979e0-b527-4e59-b3e4-d2d33c0f3fac",
   "metadata": {},
   "source": [
    "<h1>Upload Queries</h1>"
   ]
  },
  {
   "cell_type": "code",
   "execution_count": null,
   "id": "ab977060-d863-4d4a-9c0d-b94ba5dfaff6",
   "metadata": {
    "tags": []
   },
   "outputs": [],
   "source": [
    "df = pd.read_json('queries.jsonl',orient='records',lines=True)\n",
    "df.head()"
   ]
  },
  {
   "cell_type": "code",
   "execution_count": null,
   "id": "2b94434b-159e-41fc-b915-35e338b5767b",
   "metadata": {
    "tags": []
   },
   "outputs": [],
   "source": [
    "print(df['question'][0])"
   ]
  },
  {
   "cell_type": "code",
   "execution_count": null,
   "id": "b79d792d-b77b-45ca-95d7-fd04bfbe199a",
   "metadata": {
    "tags": []
   },
   "outputs": [],
   "source": [
    "print(df['query'][0])"
   ]
  },
  {
   "cell_type": "code",
   "execution_count": null,
   "id": "b2832565-8c6e-4d3c-8bcf-e32d11301fd1",
   "metadata": {
    "tags": []
   },
   "outputs": [],
   "source": [
    "# Upload the Queries\n",
    "\n",
    "# Settings for displaying the import progress\n",
    "counter = 0\n",
    "interval = 1000  # print progress every this many records\n",
    "\n",
    "# Create a pandas dataframe iterator with lazy-loading,\n",
    "# so we don't load all records in RAM at once.\n",
    "\n",
    "json_iterator = pd.read_json(\n",
    "    'queries.jsonl',\n",
    "    orient='records',\n",
    "    lines=True,\n",
    "    chunksize=2,  # number of rows per chunk\n",
    "    # nrows=350  # optionally limit the number of rows to import\n",
    ")\n",
    "\n",
    "for chunk in json_iterator:\n",
    "    for index, row in chunk.iterrows():\n",
    "\n",
    "        properties = {\n",
    "            \"question\": row.question,\n",
    "            \"query\": row.query,\n",
    "        }\n",
    "\n",
    "        # Add the object to the batch, and set its vector embedding\n",
    "        wv_client.batch.add_data_object(properties, \"Query\") \n",
    "\n",
    "        # Calculate and display progress\n",
    "        counter += 1\n",
    "        if counter % interval == 0:\n",
    "            print(f\"Imported {counter} queries ...\")\n",
    "\n",
    "wv_client.batch.flush()\n",
    "print(f\"Finished importing {counter} queries.\")"
   ]
  },
  {
   "cell_type": "code",
   "execution_count": null,
   "id": "4111ea4f-1ce9-4040-9986-b6d37f8e0641",
   "metadata": {},
   "outputs": [],
   "source": []
  }
 ],
 "metadata": {
  "availableInstances": [
   {
    "_defaultOrder": 0,
    "_isFastLaunch": true,
    "category": "General purpose",
    "gpuNum": 0,
    "hideHardwareSpecs": false,
    "memoryGiB": 4,
    "name": "ml.t3.medium",
    "vcpuNum": 2
   },
   {
    "_defaultOrder": 1,
    "_isFastLaunch": false,
    "category": "General purpose",
    "gpuNum": 0,
    "hideHardwareSpecs": false,
    "memoryGiB": 8,
    "name": "ml.t3.large",
    "vcpuNum": 2
   },
   {
    "_defaultOrder": 2,
    "_isFastLaunch": false,
    "category": "General purpose",
    "gpuNum": 0,
    "hideHardwareSpecs": false,
    "memoryGiB": 16,
    "name": "ml.t3.xlarge",
    "vcpuNum": 4
   },
   {
    "_defaultOrder": 3,
    "_isFastLaunch": false,
    "category": "General purpose",
    "gpuNum": 0,
    "hideHardwareSpecs": false,
    "memoryGiB": 32,
    "name": "ml.t3.2xlarge",
    "vcpuNum": 8
   },
   {
    "_defaultOrder": 4,
    "_isFastLaunch": true,
    "category": "General purpose",
    "gpuNum": 0,
    "hideHardwareSpecs": false,
    "memoryGiB": 8,
    "name": "ml.m5.large",
    "vcpuNum": 2
   },
   {
    "_defaultOrder": 5,
    "_isFastLaunch": false,
    "category": "General purpose",
    "gpuNum": 0,
    "hideHardwareSpecs": false,
    "memoryGiB": 16,
    "name": "ml.m5.xlarge",
    "vcpuNum": 4
   },
   {
    "_defaultOrder": 6,
    "_isFastLaunch": false,
    "category": "General purpose",
    "gpuNum": 0,
    "hideHardwareSpecs": false,
    "memoryGiB": 32,
    "name": "ml.m5.2xlarge",
    "vcpuNum": 8
   },
   {
    "_defaultOrder": 7,
    "_isFastLaunch": false,
    "category": "General purpose",
    "gpuNum": 0,
    "hideHardwareSpecs": false,
    "memoryGiB": 64,
    "name": "ml.m5.4xlarge",
    "vcpuNum": 16
   },
   {
    "_defaultOrder": 8,
    "_isFastLaunch": false,
    "category": "General purpose",
    "gpuNum": 0,
    "hideHardwareSpecs": false,
    "memoryGiB": 128,
    "name": "ml.m5.8xlarge",
    "vcpuNum": 32
   },
   {
    "_defaultOrder": 9,
    "_isFastLaunch": false,
    "category": "General purpose",
    "gpuNum": 0,
    "hideHardwareSpecs": false,
    "memoryGiB": 192,
    "name": "ml.m5.12xlarge",
    "vcpuNum": 48
   },
   {
    "_defaultOrder": 10,
    "_isFastLaunch": false,
    "category": "General purpose",
    "gpuNum": 0,
    "hideHardwareSpecs": false,
    "memoryGiB": 256,
    "name": "ml.m5.16xlarge",
    "vcpuNum": 64
   },
   {
    "_defaultOrder": 11,
    "_isFastLaunch": false,
    "category": "General purpose",
    "gpuNum": 0,
    "hideHardwareSpecs": false,
    "memoryGiB": 384,
    "name": "ml.m5.24xlarge",
    "vcpuNum": 96
   },
   {
    "_defaultOrder": 12,
    "_isFastLaunch": false,
    "category": "General purpose",
    "gpuNum": 0,
    "hideHardwareSpecs": false,
    "memoryGiB": 8,
    "name": "ml.m5d.large",
    "vcpuNum": 2
   },
   {
    "_defaultOrder": 13,
    "_isFastLaunch": false,
    "category": "General purpose",
    "gpuNum": 0,
    "hideHardwareSpecs": false,
    "memoryGiB": 16,
    "name": "ml.m5d.xlarge",
    "vcpuNum": 4
   },
   {
    "_defaultOrder": 14,
    "_isFastLaunch": false,
    "category": "General purpose",
    "gpuNum": 0,
    "hideHardwareSpecs": false,
    "memoryGiB": 32,
    "name": "ml.m5d.2xlarge",
    "vcpuNum": 8
   },
   {
    "_defaultOrder": 15,
    "_isFastLaunch": false,
    "category": "General purpose",
    "gpuNum": 0,
    "hideHardwareSpecs": false,
    "memoryGiB": 64,
    "name": "ml.m5d.4xlarge",
    "vcpuNum": 16
   },
   {
    "_defaultOrder": 16,
    "_isFastLaunch": false,
    "category": "General purpose",
    "gpuNum": 0,
    "hideHardwareSpecs": false,
    "memoryGiB": 128,
    "name": "ml.m5d.8xlarge",
    "vcpuNum": 32
   },
   {
    "_defaultOrder": 17,
    "_isFastLaunch": false,
    "category": "General purpose",
    "gpuNum": 0,
    "hideHardwareSpecs": false,
    "memoryGiB": 192,
    "name": "ml.m5d.12xlarge",
    "vcpuNum": 48
   },
   {
    "_defaultOrder": 18,
    "_isFastLaunch": false,
    "category": "General purpose",
    "gpuNum": 0,
    "hideHardwareSpecs": false,
    "memoryGiB": 256,
    "name": "ml.m5d.16xlarge",
    "vcpuNum": 64
   },
   {
    "_defaultOrder": 19,
    "_isFastLaunch": false,
    "category": "General purpose",
    "gpuNum": 0,
    "hideHardwareSpecs": false,
    "memoryGiB": 384,
    "name": "ml.m5d.24xlarge",
    "vcpuNum": 96
   },
   {
    "_defaultOrder": 20,
    "_isFastLaunch": false,
    "category": "General purpose",
    "gpuNum": 0,
    "hideHardwareSpecs": true,
    "memoryGiB": 0,
    "name": "ml.geospatial.interactive",
    "supportedImageNames": [
     "sagemaker-geospatial-v1-0"
    ],
    "vcpuNum": 0
   },
   {
    "_defaultOrder": 21,
    "_isFastLaunch": true,
    "category": "Compute optimized",
    "gpuNum": 0,
    "hideHardwareSpecs": false,
    "memoryGiB": 4,
    "name": "ml.c5.large",
    "vcpuNum": 2
   },
   {
    "_defaultOrder": 22,
    "_isFastLaunch": false,
    "category": "Compute optimized",
    "gpuNum": 0,
    "hideHardwareSpecs": false,
    "memoryGiB": 8,
    "name": "ml.c5.xlarge",
    "vcpuNum": 4
   },
   {
    "_defaultOrder": 23,
    "_isFastLaunch": false,
    "category": "Compute optimized",
    "gpuNum": 0,
    "hideHardwareSpecs": false,
    "memoryGiB": 16,
    "name": "ml.c5.2xlarge",
    "vcpuNum": 8
   },
   {
    "_defaultOrder": 24,
    "_isFastLaunch": false,
    "category": "Compute optimized",
    "gpuNum": 0,
    "hideHardwareSpecs": false,
    "memoryGiB": 32,
    "name": "ml.c5.4xlarge",
    "vcpuNum": 16
   },
   {
    "_defaultOrder": 25,
    "_isFastLaunch": false,
    "category": "Compute optimized",
    "gpuNum": 0,
    "hideHardwareSpecs": false,
    "memoryGiB": 72,
    "name": "ml.c5.9xlarge",
    "vcpuNum": 36
   },
   {
    "_defaultOrder": 26,
    "_isFastLaunch": false,
    "category": "Compute optimized",
    "gpuNum": 0,
    "hideHardwareSpecs": false,
    "memoryGiB": 96,
    "name": "ml.c5.12xlarge",
    "vcpuNum": 48
   },
   {
    "_defaultOrder": 27,
    "_isFastLaunch": false,
    "category": "Compute optimized",
    "gpuNum": 0,
    "hideHardwareSpecs": false,
    "memoryGiB": 144,
    "name": "ml.c5.18xlarge",
    "vcpuNum": 72
   },
   {
    "_defaultOrder": 28,
    "_isFastLaunch": false,
    "category": "Compute optimized",
    "gpuNum": 0,
    "hideHardwareSpecs": false,
    "memoryGiB": 192,
    "name": "ml.c5.24xlarge",
    "vcpuNum": 96
   },
   {
    "_defaultOrder": 29,
    "_isFastLaunch": true,
    "category": "Accelerated computing",
    "gpuNum": 1,
    "hideHardwareSpecs": false,
    "memoryGiB": 16,
    "name": "ml.g4dn.xlarge",
    "vcpuNum": 4
   },
   {
    "_defaultOrder": 30,
    "_isFastLaunch": false,
    "category": "Accelerated computing",
    "gpuNum": 1,
    "hideHardwareSpecs": false,
    "memoryGiB": 32,
    "name": "ml.g4dn.2xlarge",
    "vcpuNum": 8
   },
   {
    "_defaultOrder": 31,
    "_isFastLaunch": false,
    "category": "Accelerated computing",
    "gpuNum": 1,
    "hideHardwareSpecs": false,
    "memoryGiB": 64,
    "name": "ml.g4dn.4xlarge",
    "vcpuNum": 16
   },
   {
    "_defaultOrder": 32,
    "_isFastLaunch": false,
    "category": "Accelerated computing",
    "gpuNum": 1,
    "hideHardwareSpecs": false,
    "memoryGiB": 128,
    "name": "ml.g4dn.8xlarge",
    "vcpuNum": 32
   },
   {
    "_defaultOrder": 33,
    "_isFastLaunch": false,
    "category": "Accelerated computing",
    "gpuNum": 4,
    "hideHardwareSpecs": false,
    "memoryGiB": 192,
    "name": "ml.g4dn.12xlarge",
    "vcpuNum": 48
   },
   {
    "_defaultOrder": 34,
    "_isFastLaunch": false,
    "category": "Accelerated computing",
    "gpuNum": 1,
    "hideHardwareSpecs": false,
    "memoryGiB": 256,
    "name": "ml.g4dn.16xlarge",
    "vcpuNum": 64
   },
   {
    "_defaultOrder": 35,
    "_isFastLaunch": false,
    "category": "Accelerated computing",
    "gpuNum": 1,
    "hideHardwareSpecs": false,
    "memoryGiB": 61,
    "name": "ml.p3.2xlarge",
    "vcpuNum": 8
   },
   {
    "_defaultOrder": 36,
    "_isFastLaunch": false,
    "category": "Accelerated computing",
    "gpuNum": 4,
    "hideHardwareSpecs": false,
    "memoryGiB": 244,
    "name": "ml.p3.8xlarge",
    "vcpuNum": 32
   },
   {
    "_defaultOrder": 37,
    "_isFastLaunch": false,
    "category": "Accelerated computing",
    "gpuNum": 8,
    "hideHardwareSpecs": false,
    "memoryGiB": 488,
    "name": "ml.p3.16xlarge",
    "vcpuNum": 64
   },
   {
    "_defaultOrder": 38,
    "_isFastLaunch": false,
    "category": "Accelerated computing",
    "gpuNum": 8,
    "hideHardwareSpecs": false,
    "memoryGiB": 768,
    "name": "ml.p3dn.24xlarge",
    "vcpuNum": 96
   },
   {
    "_defaultOrder": 39,
    "_isFastLaunch": false,
    "category": "Memory Optimized",
    "gpuNum": 0,
    "hideHardwareSpecs": false,
    "memoryGiB": 16,
    "name": "ml.r5.large",
    "vcpuNum": 2
   },
   {
    "_defaultOrder": 40,
    "_isFastLaunch": false,
    "category": "Memory Optimized",
    "gpuNum": 0,
    "hideHardwareSpecs": false,
    "memoryGiB": 32,
    "name": "ml.r5.xlarge",
    "vcpuNum": 4
   },
   {
    "_defaultOrder": 41,
    "_isFastLaunch": false,
    "category": "Memory Optimized",
    "gpuNum": 0,
    "hideHardwareSpecs": false,
    "memoryGiB": 64,
    "name": "ml.r5.2xlarge",
    "vcpuNum": 8
   },
   {
    "_defaultOrder": 42,
    "_isFastLaunch": false,
    "category": "Memory Optimized",
    "gpuNum": 0,
    "hideHardwareSpecs": false,
    "memoryGiB": 128,
    "name": "ml.r5.4xlarge",
    "vcpuNum": 16
   },
   {
    "_defaultOrder": 43,
    "_isFastLaunch": false,
    "category": "Memory Optimized",
    "gpuNum": 0,
    "hideHardwareSpecs": false,
    "memoryGiB": 256,
    "name": "ml.r5.8xlarge",
    "vcpuNum": 32
   },
   {
    "_defaultOrder": 44,
    "_isFastLaunch": false,
    "category": "Memory Optimized",
    "gpuNum": 0,
    "hideHardwareSpecs": false,
    "memoryGiB": 384,
    "name": "ml.r5.12xlarge",
    "vcpuNum": 48
   },
   {
    "_defaultOrder": 45,
    "_isFastLaunch": false,
    "category": "Memory Optimized",
    "gpuNum": 0,
    "hideHardwareSpecs": false,
    "memoryGiB": 512,
    "name": "ml.r5.16xlarge",
    "vcpuNum": 64
   },
   {
    "_defaultOrder": 46,
    "_isFastLaunch": false,
    "category": "Memory Optimized",
    "gpuNum": 0,
    "hideHardwareSpecs": false,
    "memoryGiB": 768,
    "name": "ml.r5.24xlarge",
    "vcpuNum": 96
   },
   {
    "_defaultOrder": 47,
    "_isFastLaunch": false,
    "category": "Accelerated computing",
    "gpuNum": 1,
    "hideHardwareSpecs": false,
    "memoryGiB": 16,
    "name": "ml.g5.xlarge",
    "vcpuNum": 4
   },
   {
    "_defaultOrder": 48,
    "_isFastLaunch": false,
    "category": "Accelerated computing",
    "gpuNum": 1,
    "hideHardwareSpecs": false,
    "memoryGiB": 32,
    "name": "ml.g5.2xlarge",
    "vcpuNum": 8
   },
   {
    "_defaultOrder": 49,
    "_isFastLaunch": false,
    "category": "Accelerated computing",
    "gpuNum": 1,
    "hideHardwareSpecs": false,
    "memoryGiB": 64,
    "name": "ml.g5.4xlarge",
    "vcpuNum": 16
   },
   {
    "_defaultOrder": 50,
    "_isFastLaunch": false,
    "category": "Accelerated computing",
    "gpuNum": 1,
    "hideHardwareSpecs": false,
    "memoryGiB": 128,
    "name": "ml.g5.8xlarge",
    "vcpuNum": 32
   },
   {
    "_defaultOrder": 51,
    "_isFastLaunch": false,
    "category": "Accelerated computing",
    "gpuNum": 1,
    "hideHardwareSpecs": false,
    "memoryGiB": 256,
    "name": "ml.g5.16xlarge",
    "vcpuNum": 64
   },
   {
    "_defaultOrder": 52,
    "_isFastLaunch": false,
    "category": "Accelerated computing",
    "gpuNum": 4,
    "hideHardwareSpecs": false,
    "memoryGiB": 192,
    "name": "ml.g5.12xlarge",
    "vcpuNum": 48
   },
   {
    "_defaultOrder": 53,
    "_isFastLaunch": false,
    "category": "Accelerated computing",
    "gpuNum": 4,
    "hideHardwareSpecs": false,
    "memoryGiB": 384,
    "name": "ml.g5.24xlarge",
    "vcpuNum": 96
   },
   {
    "_defaultOrder": 54,
    "_isFastLaunch": false,
    "category": "Accelerated computing",
    "gpuNum": 8,
    "hideHardwareSpecs": false,
    "memoryGiB": 768,
    "name": "ml.g5.48xlarge",
    "vcpuNum": 192
   },
   {
    "_defaultOrder": 55,
    "_isFastLaunch": false,
    "category": "Accelerated computing",
    "gpuNum": 8,
    "hideHardwareSpecs": false,
    "memoryGiB": 1152,
    "name": "ml.p4d.24xlarge",
    "vcpuNum": 96
   },
   {
    "_defaultOrder": 56,
    "_isFastLaunch": false,
    "category": "Accelerated computing",
    "gpuNum": 8,
    "hideHardwareSpecs": false,
    "memoryGiB": 1152,
    "name": "ml.p4de.24xlarge",
    "vcpuNum": 96
   }
  ],
  "instance_type": "ml.t3.medium",
  "kernelspec": {
   "display_name": "conda_python3",
   "language": "python",
   "name": "conda_python3"
  },
  "language_info": {
   "codemirror_mode": {
    "name": "ipython",
    "version": 3
   },
   "file_extension": ".py",
   "mimetype": "text/x-python",
   "name": "python",
   "nbconvert_exporter": "python",
   "pygments_lexer": "ipython3",
   "version": "3.10.12"
  }
 },
 "nbformat": 4,
 "nbformat_minor": 5
}
